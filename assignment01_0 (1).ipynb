{
  "nbformat": 4,
  "nbformat_minor": 0,
  "metadata": {
    "colab": {
      "provenance": []
    },
    "kernelspec": {
      "name": "python3",
      "display_name": "Python 3"
    },
    "language_info": {
      "name": "python"
    }
  },
  "cells": [
    {
      "cell_type": "markdown",
      "source": [
        "#Assignment"
      ],
      "metadata": {
        "id": "B_rPzIWz0bZr"
      }
    },
    {
      "cell_type": "markdown",
      "source": [],
      "metadata": {
        "id": "8HZPIMhn0mFt"
      }
    },
    {
      "cell_type": "markdown",
      "source": [
        "1. What is Python, and why is it popular?\n",
        "\n",
        " Ans: Python is a high-level, interpreted programming language known for its simplicity and\n",
        " readability. It's popular because of its versatility in web development, data science, automation, AI,\n",
        " and more.\n",
        "\n",
        "\n",
        " 2. What is an interpreter in Python?\n",
        "\n",
        " Ans: An interpreter is a program that reads and executes Python code line by line.\n",
        "\n",
        " 3. What are pre-defined keywords in Python?\n",
        "\n",
        " Ans: Keywords are reserved words that have special meaning in Python, like 'if', 'else', 'for', 'while',\n",
        " etc.\n",
        "\n",
        " 4. Can keywords be used as variable names?\n",
        "\n",
        " Ans: No, Python keywords cannot be used as variable names.\n",
        "\n",
        " 5. What is mutability in Python?\n",
        "\n",
        " Ans: Mutability refers to whether an object can be changed after creation. Mutable objects can be\n",
        " changed, immutable ones cannot.\n",
        "\n",
        " 6. Why are lists mutable, but tuples are immutable?\n",
        "\n",
        " Ans: Lists can be modified (add, remove, change items), while tuples are fixed and cannot be\n",
        " altered after creation.\n",
        "\n",
        " 7. What is the difference between '==' and 'is' operators in Python?\n",
        "\n",
        " Ans: '==' checks if values are equal, 'is' checks if two variables point to the same object in memory.\n",
        "\n",
        " 8. What are logical operators in Python?\n",
        "\n",
        " Ans: Logical operators are 'and', 'or', and 'not'. They are used to combine conditional statements.\n",
        "\n",
        " 9. What is type casting in Python?\n",
        "\n",
        " Ans: Type casting is converting one data type into another, like int to float or string to int.\n",
        "\n",
        "10. What is the difference between implicit and explicit type casting?\n",
        "\n",
        " Ans: Implicit casting is done automatically by Python, while explicit casting is done using functions\n",
        " like int(), float(), str(), etc.\n",
        "\n",
        " 11. What is the purpose of conditional statements in Python?\n",
        "\n",
        " Ans: They allow decisions in code using if, elif, and else.\n",
        "\n",
        " 12. How does the elif statement work?\n",
        "\n",
        " Ans: It checks another condition if the previous 'if' or 'elif' is False.\n",
        "\n",
        " 13. What is the difference between for and while loops?\n",
        "\n",
        " Ans: 'for' loop is used when the number of iterations is known, 'while' is used when the condition is\n",
        " based on logic.\n",
        "\n",
        " 14. Describe a scenario where a while loop is more suitable than a for loop.\n",
        "\n",
        " Ans: While loop is better when repeating code until a condition changes, like waiting for correct user\n",
        " input."
      ],
      "metadata": {
        "id": "IADi_Fjb0nfr"
      }
    },
    {
      "cell_type": "code",
      "source": [
        "# 1 Write a Python program to print 'Hello, World!' Code:\n",
        "\n",
        "print(\"Hello, World!\")\n"
      ],
      "metadata": {
        "colab": {
          "base_uri": "https://localhost:8080/"
        },
        "id": "JB2p7Cjm1Wr7",
        "outputId": "3b1c57a2-4d34-48bc-c34d-8db1cb35ad90"
      },
      "execution_count": null,
      "outputs": [
        {
          "output_type": "stream",
          "name": "stdout",
          "text": [
            "Hello, World!\n"
          ]
        }
      ]
    },
    {
      "cell_type": "code",
      "source": [
        "# 2 Write a Python program that displays your name and age Code:\n",
        " name = \"Zakariya\"\n",
        " age = 21\n",
        " print(\"Name:\", name)\n",
        " print(\"Age:\", age)"
      ],
      "metadata": {
        "colab": {
          "base_uri": "https://localhost:8080/"
        },
        "id": "SQFc3WiW1lay",
        "outputId": "15af8b45-a3f6-463e-e56a-bc578068703a"
      },
      "execution_count": null,
      "outputs": [
        {
          "output_type": "stream",
          "name": "stdout",
          "text": [
            "Name: Zakariya\n",
            "Age: 21\n"
          ]
        }
      ]
    },
    {
      "cell_type": "markdown",
      "source": [
        "3. Write to code print all predefined keywords using keyword library\n",
        " Code:"
      ],
      "metadata": {
        "id": "PzQPL6Ks2Cyb"
      }
    },
    {
      "cell_type": "code",
      "source": [
        "# 3 Write to code print all predefined keywords using keyword library Code:\n",
        " import keyword\n",
        " print(keyword.kwlist)"
      ],
      "metadata": {
        "colab": {
          "base_uri": "https://localhost:8080/"
        },
        "id": "sMbCY5fS2Ftr",
        "outputId": "98be5ba9-4dc7-4d17-8be5-61aa02f45b47"
      },
      "execution_count": null,
      "outputs": [
        {
          "output_type": "stream",
          "name": "stdout",
          "text": [
            "['False', 'None', 'True', 'and', 'as', 'assert', 'async', 'await', 'break', 'class', 'continue', 'def', 'del', 'elif', 'else', 'except', 'finally', 'for', 'from', 'global', 'if', 'import', 'in', 'is', 'lambda', 'nonlocal', 'not', 'or', 'pass', 'raise', 'return', 'try', 'while', 'with', 'yield']\n"
          ]
        }
      ]
    },
    {
      "cell_type": "code",
      "source": [
        " # 4 Write a check if a word is a Python keyword Code\n",
        " word = input(\"Enter word: \")\n",
        " print(keyword.iskeyword(word))"
      ],
      "metadata": {
        "colab": {
          "base_uri": "https://localhost:8080/"
        },
        "id": "vBZ6DI8P2S3s",
        "outputId": "6b178e8b-7f8c-4f6d-cdaa-4efd9b0778d0"
      },
      "execution_count": null,
      "outputs": [
        {
          "output_type": "stream",
          "name": "stdout",
          "text": [
            "Enter word: zakariya\n",
            "False\n"
          ]
        }
      ]
    },
    {
      "cell_type": "code",
      "source": [
        "# 5 Write a function to demonstrate mutable and immutable behavior Code:\n",
        " def modify_list(lst):\n",
        "    lst.append(100)\n",
        " def modify_int(x):\n",
        "    x += 10\n",
        "l = [1, 2]\n",
        " i = 5\n",
        " modify_list(l)\n",
        " modify_int(i)\n",
        " print(l)  # List modified\n",
        " print(i)  # Integer unchanged"
      ],
      "metadata": {
        "colab": {
          "base_uri": "https://localhost:8080/"
        },
        "id": "3ICPoOWR214r",
        "outputId": "1e54b0d6-9cfc-47fa-a334-93a5da67ab12"
      },
      "execution_count": null,
      "outputs": [
        {
          "output_type": "stream",
          "name": "stdout",
          "text": [
            "[1, 2, 100]\n",
            "5\n"
          ]
        }
      ]
    },
    {
      "cell_type": "code",
      "source": [
        "#write a basic arithmetic operations on two inputs Code:\n",
        " a = int(input(\"Enter first number: \"))\n",
        " b = int(input(\"Enter second number: \"))\n",
        " print(\"Sum:\", a + b)\n",
        " print(\"Product:\", a * b)"
      ],
      "metadata": {
        "colab": {
          "base_uri": "https://localhost:8080/"
        },
        "id": "VhyfU98O3PWy",
        "outputId": "f13fd54f-0c43-42b2-b4e1-4cd46ed619eb"
      },
      "execution_count": null,
      "outputs": [
        {
          "output_type": "stream",
          "name": "stdout",
          "text": [
            "Enter first number: 456\n",
            "Enter second number: 556\n",
            "Sum: 1012\n",
            "Product: 253536\n"
          ]
        }
      ]
    },
    {
      "cell_type": "code",
      "source": [
        " # 7.Write a use of logical operators Code:\n",
        " a = True\n",
        " b = False\n",
        " print(\"AND:\", a and b)\n",
        " print(\"OR:\", a or b)\n",
        " print(\"NOT A:\", not a)"
      ],
      "metadata": {
        "colab": {
          "base_uri": "https://localhost:8080/"
        },
        "id": "J6uA0lLZ3f35",
        "outputId": "8c8b73eb-d077-4602-9e47-2a3717866435"
      },
      "execution_count": null,
      "outputs": [
        {
          "output_type": "stream",
          "name": "stdout",
          "text": [
            "AND: False\n",
            "OR: True\n",
            "NOT A: False\n"
          ]
        }
      ]
    },
    {
      "cell_type": "code",
      "source": [
        "# 8 Write a list vs Tuple mutation Code:\n",
        "\n",
        "l = [1, 2, 3]\n",
        "t = (1, 2, 3)\n",
        "l[0] = 10\n",
        "print(\"List:\", l)\n",
        "t[0] = 10  # Error: Tuple is immutable"
      ],
      "metadata": {
        "colab": {
          "base_uri": "https://localhost:8080/",
          "height": 193
        },
        "id": "JGKhvEkK4o0q",
        "outputId": "ee17c387-3942-415c-91cc-f53c3c4b519c"
      },
      "execution_count": null,
      "outputs": [
        {
          "output_type": "stream",
          "name": "stdout",
          "text": [
            "List: [10, 2, 3]\n"
          ]
        },
        {
          "output_type": "error",
          "ename": "TypeError",
          "evalue": "'tuple' object does not support item assignment",
          "traceback": [
            "\u001b[0;31m---------------------------------------------------------------------------\u001b[0m",
            "\u001b[0;31mTypeError\u001b[0m                                 Traceback (most recent call last)",
            "\u001b[0;32m/tmp/ipython-input-31-3884104530.py\u001b[0m in \u001b[0;36m<cell line: 0>\u001b[0;34m()\u001b[0m\n\u001b[1;32m      3\u001b[0m \u001b[0ml\u001b[0m\u001b[0;34m[\u001b[0m\u001b[0;36m0\u001b[0m\u001b[0;34m]\u001b[0m \u001b[0;34m=\u001b[0m \u001b[0;36m10\u001b[0m\u001b[0;34m\u001b[0m\u001b[0;34m\u001b[0m\u001b[0m\n\u001b[1;32m      4\u001b[0m \u001b[0mprint\u001b[0m\u001b[0;34m(\u001b[0m\u001b[0;34m\"List:\"\u001b[0m\u001b[0;34m,\u001b[0m \u001b[0ml\u001b[0m\u001b[0;34m)\u001b[0m\u001b[0;34m\u001b[0m\u001b[0;34m\u001b[0m\u001b[0m\n\u001b[0;32m----> 5\u001b[0;31m \u001b[0mt\u001b[0m\u001b[0;34m[\u001b[0m\u001b[0;36m0\u001b[0m\u001b[0;34m]\u001b[0m \u001b[0;34m=\u001b[0m \u001b[0;36m10\u001b[0m  \u001b[0;31m# Error: Tuple is immutable\u001b[0m\u001b[0;34m\u001b[0m\u001b[0;34m\u001b[0m\u001b[0m\n\u001b[0m",
            "\u001b[0;31mTypeError\u001b[0m: 'tuple' object does not support item assignment"
          ]
        }
      ]
    },
    {
      "cell_type": "code",
      "source": [
        "# 9.write a convert user input to int, float, and bool Code:\n",
        "s = input(\"Enter your number: \")\n",
        "print (int(s),float (s), bool(s))\n",
        "i = [\"1\",\"2\" ,\"3\"]\n",
        "i = list(map(int, i))\n",
        "print(1)\n",
        "\n"
      ],
      "metadata": {
        "colab": {
          "base_uri": "https://localhost:8080/"
        },
        "id": "5YAR3zUn6eBs",
        "outputId": "b2bb8bd9-8ff8-415f-9dc1-aea897f824a3"
      },
      "execution_count": 68,
      "outputs": [
        {
          "output_type": "stream",
          "name": "stdout",
          "text": [
            "Enter your number: 45\n",
            "45 45.0 True\n",
            "1\n"
          ]
        }
      ]
    },
    {
      "cell_type": "code",
      "source": [
        "# 10 Write code to demonstrate type casting with list elements\n",
        "string_list = ['10', '20','30','40','50']\n",
        "int_list = [int(x) for x in string_list]\n",
        "float_list = [ float(x) for x in string_list]\n",
        "print(\"Original list (strings):\",\n",
        "      string_list)\n",
        "print(\"After type casting to integers:\",\n",
        "      int_list)\n",
        "print(\"After type casting tob floats:\",\n",
        "      float_list)"
      ],
      "metadata": {
        "colab": {
          "base_uri": "https://localhost:8080/"
        },
        "id": "AI76nce9_n5B",
        "outputId": "59ec9a19-c8f5-4464-bb7c-4fb8cbf49f12"
      },
      "execution_count": 52,
      "outputs": [
        {
          "output_type": "stream",
          "name": "stdout",
          "text": [
            "Original list (strings): ['10', '20', '30', '40', '50']\n",
            "After type casting to integers: [10, 20, 30, 40, 50]\n",
            "After type casting tob floats: [10.0, 20.0, 30.0, 40.0, 50.0]\n"
          ]
        }
      ]
    },
    {
      "cell_type": "code",
      "source": [
        "# 11 Write a program that checks if a number is positive, negative, or zero.\n",
        " num = int(input(\"Enter number: \"))\n",
        " if num > 0:\n",
        "    print(\"Positive\")\n",
        " elif num < 0:\n",
        "    print(\"Negative\")\n",
        " else:\n",
        "    print(\"Zero\")"
      ],
      "metadata": {
        "colab": {
          "base_uri": "https://localhost:8080/"
        },
        "id": "yFrGNCksACZs",
        "outputId": "12fd82a9-5729-44fb-f45d-9340ba1d5654"
      },
      "execution_count": 7,
      "outputs": [
        {
          "output_type": "stream",
          "name": "stdout",
          "text": [
            "Enter number: 45\n",
            "Positive\n"
          ]
        }
      ]
    },
    {
      "cell_type": "code",
      "source": [
        " # 12 Write a for loop to print numbers from 1 to 10.\n",
        " for i in range(1, 11):\n",
        "    print(i)"
      ],
      "metadata": {
        "colab": {
          "base_uri": "https://localhost:8080/"
        },
        "id": "4MqhLrUfBCvl",
        "outputId": "ede7416f-6d70-43c5-d2ef-7460751e53a6"
      },
      "execution_count": 8,
      "outputs": [
        {
          "output_type": "stream",
          "name": "stdout",
          "text": [
            "1\n",
            "2\n",
            "3\n",
            "4\n",
            "5\n",
            "6\n",
            "7\n",
            "8\n",
            "9\n",
            "10\n"
          ]
        }
      ]
    },
    {
      "cell_type": "code",
      "source": [
        "# 13 Write a Python program to find the sum of all even numbers between 1 and 50.\n",
        "\n",
        "sum_even = 0\n",
        "for nun in range(1,51):\n",
        "  if nun % 2 == 0:\n",
        "    sum_even += nun\n",
        "print(\"The sum of all even number between 1 and 50 is:\", sum_even)\n"
      ],
      "metadata": {
        "colab": {
          "base_uri": "https://localhost:8080/"
        },
        "id": "wZU4qVoiBVgz",
        "outputId": "f1e01b67-1d85-47e7-8262-3fa5505341c4"
      },
      "execution_count": 49,
      "outputs": [
        {
          "output_type": "stream",
          "name": "stdout",
          "text": [
            "The sum of all even number between 1 and 50 is: 650\n"
          ]
        }
      ]
    },
    {
      "cell_type": "code",
      "source": [
        "# 14 Write a program to reverse a string using a while loop.\n",
        "\n",
        " s = input(\"Enter string: \")\n",
        " i = len(s) - 1\n",
        " while i >= 0:\n",
        "    print(s[i], end=\"\")\n",
        "    i -= 1"
      ],
      "metadata": {
        "colab": {
          "base_uri": "https://localhost:8080/"
        },
        "id": "bmdfaaW2BaIa",
        "outputId": "0ced38a5-07d2-4585-ee00-85ac8ff96a43"
      },
      "execution_count": 12,
      "outputs": [
        {
          "output_type": "stream",
          "name": "stdout",
          "text": [
            "Enter string: \"maaz\"\n",
            "\"zaam\""
          ]
        }
      ]
    },
    {
      "cell_type": "code",
      "source": [
        "# 15 Write a Python program to calculate the factorial of a number provided by the user using a while loop.\n",
        " n = int(input(\"Enter number: \"))\n",
        " fact = 1\n",
        " while n > 0:\n",
        "    fact *= n\n",
        "    n -= 1\n",
        " print(\"Factorial:\", fact)"
      ],
      "metadata": {
        "colab": {
          "base_uri": "https://localhost:8080/"
        },
        "id": "c5uzsImdBfVn",
        "outputId": "baa101ac-1f8e-47cd-fe81-d1be04ff573c"
      },
      "execution_count": 13,
      "outputs": [
        {
          "output_type": "stream",
          "name": "stdout",
          "text": [
            "Enter number: 55\n",
            "Factorial: 12696403353658275925965100847566516959580321051449436762275840000000000000\n"
          ]
        }
      ]
    }
  ]
}